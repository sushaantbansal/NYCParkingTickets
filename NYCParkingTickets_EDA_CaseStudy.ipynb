{
 "cells": [
  {
   "cell_type": "markdown",
   "metadata": {},
   "source": [
    "# NYC Parking Tickets: An Exploratory Analysis"
   ]
  },
  {
   "cell_type": "code",
   "execution_count": 1,
   "metadata": {},
   "outputs": [],
   "source": [
    "from pyspark.sql import SparkSession\n",
    "# setting up the spark session\n",
    "spark = SparkSession \\\n",
    "    .builder \\\n",
    "    .appName(\"NYC Parking Tickets EDA\") \\\n",
    "    .getOrCreate()"
   ]
  },
  {
   "cell_type": "code",
   "execution_count": 2,
   "metadata": {},
   "outputs": [],
   "source": [
    "# reading the data\n",
    "nycparking_df = spark.read.format(\"csv\")\\\n",
    "  .option(\"header\", \"true\")\\\n",
    "  .option(\"inferSchema\", \"true\")\\\n",
    "  .load(\"/common_folder/nyc_parking/Parking_Violations_Issued_-_Fiscal_Year_2017.csv\")\\\n",
    "  .coalesce(3) \n"
   ]
  },
  {
   "cell_type": "code",
   "execution_count": 3,
   "metadata": {
    "scrolled": true
   },
   "outputs": [
    {
     "name": "stdout",
     "output_type": "stream",
     "text": [
      "+--------------+--------+------------------+-------------------+--------------+-----------------+------------+------------------+---------------+--------------+\n",
      "|Summons Number|Plate ID|Registration State|         Issue Date|Violation Code|Vehicle Body Type|Vehicle Make|Violation Precinct|Issuer Precinct|Violation Time|\n",
      "+--------------+--------+------------------+-------------------+--------------+-----------------+------------+------------------+---------------+--------------+\n",
      "|    5092469481| GZH7067|                NY|2016-07-10 00:00:00|             7|             SUBN|       TOYOT|                 0|              0|         0143A|\n",
      "|    5092451658| GZH7067|                NY|2016-07-08 00:00:00|             7|             SUBN|       TOYOT|                 0|              0|         0400P|\n",
      "|    4006265037| FZX9232|                NY|2016-08-23 00:00:00|             5|             SUBN|        FORD|                 0|              0|         0233P|\n",
      "|    8478629828| 66623ME|                NY|2017-06-14 00:00:00|            47|             REFG|       MITSU|                14|             14|         1120A|\n",
      "|    7868300310| 37033JV|                NY|2016-11-21 00:00:00|            69|             DELV|       INTER|                13|             13|         0555P|\n",
      "|    5096917368| FZD8593|                NY|2017-06-13 00:00:00|             7|             SUBN|       ME/BE|                 0|              0|         0852P|\n",
      "|    1413609545|  X20DCM|                NJ|2016-08-03 00:00:00|            40|              SDN|       TOYOT|                71|             71|         0215A|\n",
      "|    4628525523|  326SF9|                MA|2016-12-21 00:00:00|            36|               UT|         BMW|                 0|              0|         0758A|\n",
      "|    4627113330| HCA5464|                NY|2016-11-21 00:00:00|            36|             SUBN|       DODGE|                 0|              0|         1005A|\n",
      "|    4006478550| VAD7274|                VA|2016-10-05 00:00:00|             5|               4D|         BMW|                 0|              0|         0845A|\n",
      "+--------------+--------+------------------+-------------------+--------------+-----------------+------------+------------------+---------------+--------------+\n",
      "only showing top 10 rows\n",
      "\n"
     ]
    }
   ],
   "source": [
    "# checking how the data looks like\n",
    "nycparking_df.show(10)"
   ]
  },
  {
   "cell_type": "markdown",
   "metadata": {},
   "source": [
    "## Assumptions\n",
    "\n",
    "Before moving ahead let's list down the set of assumptions for the below analysis, \n",
    "1. `Issue Date` defines which year a certain datapoint belongs to.\n",
    "2. All the `Registration State` except `99`(since given in the problem statement) are correct values.\n",
    "3. All the values of `Plate ID`, `Violation Code`, `Vehicle Body Type`, `Vehicle Make` and `Violation Time` are correct(except NULLs).\n",
    "4. All the values for `Violation Precinct` and `Issuer Precinct` are correct(except 0 and NULL).\n",
    "5. Hints given with the problem statements are just for the sake of help and are not mandatory to be followed.\n",
    "6. Changing the format of a column for bettwr usability for analysis is not prohibited(unless stated otherwise in the problem statement)."
   ]
  },
  {
   "cell_type": "markdown",
   "metadata": {},
   "source": [
    "## Examine the data\n",
    "\n",
    "Let's first check the basic sanity of the data we are expecting to work with, to start with the very first thing is the year this data belongs to has to be year `2017` as per the problem statement."
   ]
  },
  {
   "cell_type": "code",
   "execution_count": 4,
   "metadata": {},
   "outputs": [
    {
     "data": {
      "text/plain": [
       "5371110"
      ]
     },
     "execution_count": 4,
     "metadata": {},
     "output_type": "execute_result"
    }
   ],
   "source": [
    "# checking the data duration using the Ticket \"Issue Date\"\n",
    "from pyspark.sql.functions import year\n",
    "nycparking_df.where(year('Issue Date') != 2017).count()"
   ]
  },
  {
   "cell_type": "markdown",
   "metadata": {},
   "source": [
    "So we have `5371110` records in the dataset which doesn't actually belong to year `2017` and therefore should be removed from the data under consideration."
   ]
  },
  {
   "cell_type": "code",
   "execution_count": 5,
   "metadata": {
    "scrolled": true
   },
   "outputs": [
    {
     "name": "stdout",
     "output_type": "stream",
     "text": [
      "+--------------+--------+------------------+-------------------+--------------+-----------------+------------+------------------+---------------+--------------+\n",
      "|Summons Number|Plate ID|Registration State|         Issue Date|Violation Code|Vehicle Body Type|Vehicle Make|Violation Precinct|Issuer Precinct|Violation Time|\n",
      "+--------------+--------+------------------+-------------------+--------------+-----------------+------------+------------------+---------------+--------------+\n",
      "|    8478629828| 66623ME|                NY|2017-06-14 00:00:00|            47|             REFG|       MITSU|                14|             14|         1120A|\n",
      "|    5096917368| FZD8593|                NY|2017-06-13 00:00:00|             7|             SUBN|       ME/BE|                 0|              0|         0852P|\n",
      "|    1407740258| 2513JMG|                NY|2017-01-11 00:00:00|            78|             DELV|       FRUEH|               106|            106|         0015A|\n",
      "|    1413656420|T672371C|                NY|2017-02-04 00:00:00|            40|             TAXI|       TOYOT|                73|             73|         0525A|\n",
      "|    8480309064| 51771JW|                NY|2017-01-26 00:00:00|            64|              VAN|       INTER|                17|             17|         0256P|\n",
      "|    1416638830|  GLP367|                NY|2017-04-30 00:00:00|            20|             SUBN|       DODGE|                17|             17|         1232A|\n",
      "|    4630524241|  HJBP29|                FL|2017-02-03 00:00:00|            36|               4D|         BMW|                 0|              0|         1034A|\n",
      "|    8505131836| 87155MA|                NY|2017-05-27 00:00:00|            38|              VAN|       CHEVR|                 1|              1|         1021A|\n",
      "|    8513520615| 77026MG|                NY|2017-05-31 00:00:00|            14|             TRAC|       VOLVO|                24|             24|         0721A|\n",
      "|    8556155431| HFB9919|                NY|2017-05-26 00:00:00|            75|             4DSD|       DODGE|               114|            114|         0940A|\n",
      "+--------------+--------+------------------+-------------------+--------------+-----------------+------------+------------------+---------------+--------------+\n",
      "only showing top 10 rows\n",
      "\n"
     ]
    }
   ],
   "source": [
    "# creating a new dataframe for the records from year 2017 only\n",
    "nycpark2017_df = nycparking_df.where(year('Issue Date') == 2017)\n",
    "nycpark2017_df.show(10)"
   ]
  },
  {
   "cell_type": "markdown",
   "metadata": {},
   "source": [
    "\n",
    "### 1. Find the total number of tickets for the year."
   ]
  },
  {
   "cell_type": "code",
   "execution_count": 6,
   "metadata": {},
   "outputs": [
    {
     "data": {
      "text/plain": [
       "5431918"
      ]
     },
     "execution_count": 6,
     "metadata": {},
     "output_type": "execute_result"
    }
   ],
   "source": [
    "# counting the total tickets for the entire year\n",
    "nycpark2017_df.select('Summons Number').distinct().count()"
   ]
  },
  {
   "cell_type": "markdown",
   "metadata": {},
   "source": [
    "Therefore, there are `5431918` tickets issued during year 2017."
   ]
  },
  {
   "cell_type": "markdown",
   "metadata": {},
   "source": [
    "### 2. Find out the number of unique states from where the cars that got parking tickets came. (Hint: Use the column 'Registration State'.)   There is a numeric entry '99' in the column, which should be corrected. Replace it with the state having the maximum entries. Provide the number of unique states again."
   ]
  },
  {
   "cell_type": "code",
   "execution_count": 7,
   "metadata": {},
   "outputs": [
    {
     "data": {
      "text/plain": [
       "65"
      ]
     },
     "execution_count": 7,
     "metadata": {},
     "output_type": "execute_result"
    }
   ],
   "source": [
    "# counting the total unique states\n",
    "nycpark2017_df.select('Registration State').distinct().count()"
   ]
  },
  {
   "cell_type": "code",
   "execution_count": 8,
   "metadata": {
    "scrolled": true
   },
   "outputs": [
    {
     "name": "stdout",
     "output_type": "stream",
     "text": [
      "+------------------+\n",
      "|Registration State|\n",
      "+------------------+\n",
      "|                SC|\n",
      "|                AZ|\n",
      "|                NS|\n",
      "|                LA|\n",
      "|                MN|\n",
      "|                NJ|\n",
      "|                DC|\n",
      "|                OR|\n",
      "|                99|\n",
      "|                VA|\n",
      "|                RI|\n",
      "|                KY|\n",
      "|                WY|\n",
      "|                BC|\n",
      "|                NH|\n",
      "|                MI|\n",
      "|                GV|\n",
      "|                NV|\n",
      "|                QB|\n",
      "|                WI|\n",
      "|                ID|\n",
      "|                CA|\n",
      "|                CT|\n",
      "|                NE|\n",
      "|                MT|\n",
      "|                NC|\n",
      "|                VT|\n",
      "|                MD|\n",
      "|                DE|\n",
      "|                MO|\n",
      "|                IL|\n",
      "|                ME|\n",
      "|                MB|\n",
      "|                WA|\n",
      "|                ND|\n",
      "|                MS|\n",
      "|                AL|\n",
      "|                IN|\n",
      "|                OH|\n",
      "|                TN|\n",
      "|                NM|\n",
      "|                IA|\n",
      "|                PA|\n",
      "|                SD|\n",
      "|                FO|\n",
      "|                NY|\n",
      "|                ON|\n",
      "|                SK|\n",
      "|                AB|\n",
      "|                PE|\n",
      "|                TX|\n",
      "|                WV|\n",
      "|                GA|\n",
      "|                MA|\n",
      "|                KS|\n",
      "|                FL|\n",
      "|                CO|\n",
      "|                AK|\n",
      "|                AR|\n",
      "|                NB|\n",
      "|                OK|\n",
      "|                PR|\n",
      "|                UT|\n",
      "|                DP|\n",
      "|                HI|\n",
      "+------------------+\n",
      "\n"
     ]
    }
   ],
   "source": [
    "# checking the unique states names\n",
    "nycpark2017_df.select('Registration State').distinct().show(65)"
   ]
  },
  {
   "cell_type": "markdown",
   "metadata": {},
   "source": [
    "As suggested in the problem statement itself, there is only one odd entry `99`, let's impute this with the mode of `Registration State`. "
   ]
  },
  {
   "cell_type": "code",
   "execution_count": 9,
   "metadata": {
    "scrolled": true
   },
   "outputs": [
    {
     "name": "stdout",
     "output_type": "stream",
     "text": [
      "+------------------+---------+\n",
      "|Registration State|Frequency|\n",
      "+------------------+---------+\n",
      "|                NY|  4273951|\n",
      "|                NJ|   475825|\n",
      "|                PA|   140286|\n",
      "|                CT|    70403|\n",
      "|                FL|    69468|\n",
      "|                IN|    45525|\n",
      "|                MA|    38941|\n",
      "|                VA|    34367|\n",
      "|                MD|    30213|\n",
      "|                NC|    27152|\n",
      "|                TX|    18827|\n",
      "|                IL|    18666|\n",
      "|                GA|    17537|\n",
      "|                99|    16055|\n",
      "|                AZ|    12379|\n",
      "|                OH|    12281|\n",
      "|                CA|    12153|\n",
      "|                ME|    10806|\n",
      "|                SC|    10395|\n",
      "|                MN|    10083|\n",
      "+------------------+---------+\n",
      "only showing top 20 rows\n",
      "\n"
     ]
    }
   ],
   "source": [
    "# finding the mode of column Registration State\n",
    "from pyspark.sql.functions import count, desc\n",
    "nycpark2017_df.groupBy('Registration State').agg(count('Summons Number').alias('Frequency')).orderBy(desc('Frequency')).show()"
   ]
  },
  {
   "cell_type": "markdown",
   "metadata": {},
   "source": [
    "So the Mode is `NY`, which is to be imputed in the dataframe. "
   ]
  },
  {
   "cell_type": "code",
   "execution_count": 10,
   "metadata": {},
   "outputs": [],
   "source": [
    "# imputing the wrong Registration State '99' with the Mode 'NY'\n",
    "from pyspark.sql.functions import when\n",
    "nycpark2017_df = nycpark2017_df.withColumn('Registration State', \\\n",
    "                                           when(nycpark2017_df['Registration State']=='99', 'NY')\\\n",
    "                                           .otherwise(nycpark2017_df['Registration State']))"
   ]
  },
  {
   "cell_type": "code",
   "execution_count": 11,
   "metadata": {},
   "outputs": [
    {
     "data": {
      "text/plain": [
       "64"
      ]
     },
     "execution_count": 11,
     "metadata": {},
     "output_type": "execute_result"
    }
   ],
   "source": [
    "nycpark2017_df.select('Registration State').distinct().count()"
   ]
  },
  {
   "cell_type": "markdown",
   "metadata": {},
   "source": [
    "Therefore, there are **`64` unique states** from where the cars that got parking tickets came.\n",
    "\n",
    "Let's next check the NULL values in the dataframe if exists. "
   ]
  },
  {
   "cell_type": "code",
   "execution_count": 12,
   "metadata": {},
   "outputs": [
    {
     "name": "stdout",
     "output_type": "stream",
     "text": [
      "+--------------+--------+------------------+----------+--------------+-----------------+------------+------------------+---------------+--------------+\n",
      "|Summons Number|Plate ID|Registration State|Issue Date|Violation Code|Vehicle Body Type|Vehicle Make|Violation Precinct|Issuer Precinct|Violation Time|\n",
      "+--------------+--------+------------------+----------+--------------+-----------------+------------+------------------+---------------+--------------+\n",
      "|             0|       0|                 0|         0|             0|                0|           0|                 0|              0|             0|\n",
      "+--------------+--------+------------------+----------+--------------+-----------------+------------+------------------+---------------+--------------+\n",
      "\n"
     ]
    }
   ],
   "source": [
    "from pyspark.sql.functions import isnan, col\n",
    "nycpark2017_df.select([count(when(col(c).isNull(), c)).alias(c) for c in nycpark2017_df.columns]).show()"
   ]
  },
  {
   "cell_type": "markdown",
   "metadata": {},
   "source": [
    "So there are no NULL values in our dataset, further to check the Columns for any errorneous values, two columns are susceptible to errorneous data `Vehicle Body Type` and `Vehicle Make`. "
   ]
  },
  {
   "cell_type": "code",
   "execution_count": 13,
   "metadata": {
    "scrolled": true
   },
   "outputs": [
    {
     "name": "stdout",
     "output_type": "stream",
     "text": [
      "+-----------------+\n",
      "|Vehicle Body Type|\n",
      "+-----------------+\n",
      "|              BOX|\n",
      "|             ARMO|\n",
      "|               3P|\n",
      "|             COOM|\n",
      "|             GARB|\n",
      "|             TRUV|\n",
      "|                K|\n",
      "|             ELEC|\n",
      "|             FRET|\n",
      "|              MDX|\n",
      "|             BOAT|\n",
      "|              TRK|\n",
      "|             4DSW|\n",
      "|             VAND|\n",
      "|              IML|\n",
      "|             FREG|\n",
      "|             WINN|\n",
      "|             MOTC|\n",
      "|             MOTI|\n",
      "|               RG|\n",
      "|              UTI|\n",
      "|               RF|\n",
      "|             DUMD|\n",
      "|              INE|\n",
      "|               TC|\n",
      "|               PC|\n",
      "|             ORPP|\n",
      "|             TNRC|\n",
      "|             KEVG|\n",
      "|             STAK|\n",
      "|             ACCO|\n",
      "|             ILQT|\n",
      "|               SC|\n",
      "|              RED|\n",
      "|             DUIM|\n",
      "|             BUSS|\n",
      "|             INNI|\n",
      "|              SNA|\n",
      "|               IC|\n",
      "|               PU|\n",
      "|             TAHO|\n",
      "|             TRLC|\n",
      "|              BLK|\n",
      "|              TRE|\n",
      "|             ONGO|\n",
      "|               NS|\n",
      "|             REFY|\n",
      "|              CAR|\n",
      "|              MOF|\n",
      "|              NIS|\n",
      "+-----------------+\n",
      "only showing top 50 rows\n",
      "\n"
     ]
    }
   ],
   "source": [
    "# checking the unique vehicle body types\n",
    "nycpark2017_df.select('Vehicle Body Type').distinct().show(50)"
   ]
  },
  {
   "cell_type": "code",
   "execution_count": 14,
   "metadata": {
    "scrolled": true
   },
   "outputs": [
    {
     "name": "stdout",
     "output_type": "stream",
     "text": [
      "+------------+\n",
      "|Vehicle Make|\n",
      "+------------+\n",
      "|       ENFIE|\n",
      "|           K|\n",
      "|       ARUCA|\n",
      "|       INTIL|\n",
      "|        FRER|\n",
      "|        YRAN|\n",
      "|        FHHT|\n",
      "|       N. CA|\n",
      "|         LEN|\n",
      "|        VACO|\n",
      "|          MM|\n",
      "|        FRET|\n",
      "|         HYL|\n",
      "|       SALEE|\n",
      "|       INFTL|\n",
      "|         BOX|\n",
      "|       HTYUN|\n",
      "|        FIER|\n",
      "|         OWL|\n",
      "|        ANNA|\n",
      "|       LA//R|\n",
      "|       PETER|\n",
      "|       VERMA|\n",
      "|        WINN|\n",
      "|        FREG|\n",
      "|       UTILL|\n",
      "|         TRK|\n",
      "|         KAT|\n",
      "|        L/RO|\n",
      "|       ROUGH|\n",
      "|       FORDB|\n",
      "|       SPRNT|\n",
      "|        LIML|\n",
      "|        WE/C|\n",
      "|       HINOQ|\n",
      "|       INETR|\n",
      "|       HYUN1|\n",
      "|       UTILT|\n",
      "|        SABR|\n",
      "|       TOW M|\n",
      "|       BOUND|\n",
      "|        SOLE|\n",
      "|       FLIDE|\n",
      "|        PIGG|\n",
      "|         IGC|\n",
      "|         INL|\n",
      "|        VOWA|\n",
      "|       YAMAH|\n",
      "|       POLAR|\n",
      "|       HYADA|\n",
      "+------------+\n",
      "only showing top 50 rows\n",
      "\n"
     ]
    }
   ],
   "source": [
    "# checking the unique vehicle body types\n",
    "nycpark2017_df.select('Vehicle Make').distinct().show(50)"
   ]
  },
  {
   "cell_type": "markdown",
   "metadata": {},
   "source": [
    "In both the columns we can see a number of suspicious entries which are very likely to be wrong, like `Vehicle Body Type` (`K`, `4W0`) and `Vehicle Make` (`LA//R`, `N. CA`); but since we do not have enough data to correct these values, we will assume these values exist."
   ]
  },
  {
   "cell_type": "markdown",
   "metadata": {},
   "source": [
    "Now before moving to the next section, let's create a view out of our final dataframe `nycpark2017_df`. "
   ]
  },
  {
   "cell_type": "code",
   "execution_count": 15,
   "metadata": {},
   "outputs": [],
   "source": [
    "# persisting data into Memory and disk and making a view out of it\n",
    "import pyspark\n",
    "nycpark2017_df.persist(pyspark.StorageLevel.MEMORY_AND_DISK)\n",
    "nycpark2017_df.createOrReplaceTempView(\"nycparktbl\")"
   ]
  },
  {
   "cell_type": "markdown",
   "metadata": {},
   "source": [
    "## Aggregation tasks\n",
    "\n",
    "### 1. How often does each violation code occur? Display the frequency of the top five violation codes."
   ]
  },
  {
   "cell_type": "code",
   "execution_count": 16,
   "metadata": {},
   "outputs": [
    {
     "name": "stdout",
     "output_type": "stream",
     "text": [
      "+--------------+---------+\n",
      "|Violation Code|Frequency|\n",
      "+--------------+---------+\n",
      "|            21|   768087|\n",
      "|            36|   662765|\n",
      "|            38|   542079|\n",
      "|            14|   476664|\n",
      "|            20|   319646|\n",
      "+--------------+---------+\n",
      "only showing top 5 rows\n",
      "\n"
     ]
    }
   ],
   "source": [
    "# counting the frequency of each Violation Code in the dataset\n",
    "nycpark2017_df.groupBy('Violation Code').agg(count('Summons Number').alias('Frequency')).orderBy(desc('Frequency')).show(5)"
   ]
  },
  {
   "cell_type": "markdown",
   "metadata": {},
   "source": [
    "i.e, **Violation Code `21`** is the most common of all. \n",
    "\n",
    "### 2. How often does each 'vehicle body type' get a parking ticket? How about the 'vehicle make'? (Hint: Find the top 5 for both.)"
   ]
  },
  {
   "cell_type": "code",
   "execution_count": 17,
   "metadata": {},
   "outputs": [
    {
     "name": "stdout",
     "output_type": "stream",
     "text": [
      "+-----------------+---------+\n",
      "|Vehicle Body Type|Frequency|\n",
      "+-----------------+---------+\n",
      "|             SUBN|  1883954|\n",
      "|             4DSD|  1547312|\n",
      "|              VAN|   724029|\n",
      "|             DELV|   358984|\n",
      "|              SDN|   194197|\n",
      "+-----------------+---------+\n",
      "only showing top 5 rows\n",
      "\n"
     ]
    }
   ],
   "source": [
    "# checking the frequency of vehicle body type\n",
    "nycpark2017_df.groupBy('Vehicle Body Type').agg(count('Summons Number').alias('Frequency')).orderBy(desc('Frequency')).show(5)"
   ]
  },
  {
   "cell_type": "code",
   "execution_count": 18,
   "metadata": {},
   "outputs": [
    {
     "name": "stdout",
     "output_type": "stream",
     "text": [
      "+------------+---------+\n",
      "|Vehicle Make|Frequency|\n",
      "+------------+---------+\n",
      "|        FORD|   636844|\n",
      "|       TOYOT|   605291|\n",
      "|       HONDA|   538884|\n",
      "|       NISSA|   462017|\n",
      "|       CHEVR|   356032|\n",
      "+------------+---------+\n",
      "only showing top 5 rows\n",
      "\n"
     ]
    }
   ],
   "source": [
    "# checking the frequency of vehicle make\n",
    "nycpark2017_df.groupBy('Vehicle Make').agg(count('Summons Number').alias('Frequency')).orderBy(desc('Frequency')).show(5)"
   ]
  },
  {
   "cell_type": "markdown",
   "metadata": {},
   "source": [
    "As it could be clearly seen from the above results, **Vehicles with body type `SUBN`** are the major receivers of a parking ticket, however if analysed based on the **Vehicle Make `FORD`** owners have the maximum contribution to the population."
   ]
  },
  {
   "cell_type": "markdown",
   "metadata": {},
   "source": [
    "### 3. A precinct is a police station that has a certain zone of the city under its command. Find the (5 highest) frequencies of tickets for each of the following:\n",
    "\n",
    "#### 3.1. 'Violation Precinct' (This is the precinct of the zone where the violation occurred). Using this, can you draw any insights for parking violations in any specific areas of the city?"
   ]
  },
  {
   "cell_type": "code",
   "execution_count": 19,
   "metadata": {},
   "outputs": [
    {
     "name": "stdout",
     "output_type": "stream",
     "text": [
      "+------------------+---------+\n",
      "|Violation Precinct|Frequency|\n",
      "+------------------+---------+\n",
      "|                 0|   925596|\n",
      "|                19|   274445|\n",
      "|                14|   203553|\n",
      "|                 1|   174702|\n",
      "|                18|   169131|\n",
      "|               114|   147444|\n",
      "+------------------+---------+\n",
      "only showing top 6 rows\n",
      "\n"
     ]
    }
   ],
   "source": [
    "# checking the violation frequency based on Violation Precinct\n",
    "nycpark2017_df.groupBy('Violation Precinct').agg(count('Summons Number').alias('Frequency')).orderBy(desc('Frequency')).show(6)"
   ]
  },
  {
   "cell_type": "markdown",
   "metadata": {},
   "source": [
    "**Precinct `19` and `14` are the top two** candidates with the highest parking violations and therefore falls in the **most violation prone zone(s) of the city**."
   ]
  },
  {
   "cell_type": "markdown",
   "metadata": {},
   "source": [
    "#### 3.2. 'Issuer Precinct' (This is the precinct that issued the ticket.) \n",
    "#### Here, you would have noticed that the dataframe has the'Violating Precinct' or 'Issuing Precinct' as '0'. These are erroneous entries. Hence, you need to provide the records for five correct precincts. (Hint: Print the top six entries after sorting.)"
   ]
  },
  {
   "cell_type": "code",
   "execution_count": 20,
   "metadata": {},
   "outputs": [
    {
     "name": "stdout",
     "output_type": "stream",
     "text": [
      "+---------------+---------+\n",
      "|Issuer Precinct|Frequency|\n",
      "+---------------+---------+\n",
      "|              0|  1078406|\n",
      "|             19|   266961|\n",
      "|             14|   200495|\n",
      "|              1|   168740|\n",
      "|             18|   162994|\n",
      "|            114|   144054|\n",
      "+---------------+---------+\n",
      "only showing top 6 rows\n",
      "\n"
     ]
    }
   ],
   "source": [
    "# checking the violation frequency based on Issuer Precinct\n",
    "nycpark2017_df.groupBy('Issuer Precinct').agg(count('Summons Number').alias('Frequency')).orderBy(desc('Frequency')).show(6)"
   ]
  },
  {
   "cell_type": "markdown",
   "metadata": {},
   "source": [
    "Clearly, **Precinct `19` is the highest issuer of the tickets** followed by precinct `14` for the very obvious reason as a conclusion from our observation above."
   ]
  },
  {
   "cell_type": "markdown",
   "metadata": {},
   "source": [
    "### 4. Find the violation code frequencies for three precincts that have issued the most number of tickets. Do these precinct zones have an exceptionally high frequency of certain violation codes? Are these codes common across precincts? "
   ]
  },
  {
   "cell_type": "code",
   "execution_count": 21,
   "metadata": {
    "scrolled": true
   },
   "outputs": [
    {
     "name": "stdout",
     "output_type": "stream",
     "text": [
      "+--------------+---------+\n",
      "|Violation Code|Frequency|\n",
      "+--------------+---------+\n",
      "|            46|    48445|\n",
      "|            38|    36386|\n",
      "|            37|    36056|\n",
      "|            14|    29797|\n",
      "|            21|    28415|\n",
      "|            20|    14629|\n",
      "|            40|    11416|\n",
      "|            16|     9926|\n",
      "|            71|     7493|\n",
      "|            19|     6856|\n",
      "|            10|     5643|\n",
      "|            84|     4910|\n",
      "|            70|     4459|\n",
      "|            18|     3148|\n",
      "|            69|     2910|\n",
      "|            31|     2080|\n",
      "|            53|     1736|\n",
      "|            50|     1483|\n",
      "|            17|     1464|\n",
      "|            48|     1460|\n",
      "+--------------+---------+\n",
      "only showing top 20 rows\n",
      "\n"
     ]
    }
   ],
   "source": [
    "# violation code frequency for Issuer precinct 19\n",
    "spark.sql(\"select `Violation Code`, count(*) as Frequency from \\\n",
    "(select * from nycparktbl where `Issuer Precinct` == 19) group by `Violation Code` order by Frequency desc\").show()"
   ]
  },
  {
   "cell_type": "markdown",
   "metadata": {},
   "source": [
    "As we can see `46`, `38`, `37`, `14`, `21` are the Violation codes which are extremely frequently charged by Precinct 19."
   ]
  },
  {
   "cell_type": "code",
   "execution_count": 22,
   "metadata": {
    "scrolled": true
   },
   "outputs": [
    {
     "name": "stdout",
     "output_type": "stream",
     "text": [
      "+--------------+---------+\n",
      "|Violation Code|Frequency|\n",
      "+--------------+---------+\n",
      "|            14|    45036|\n",
      "|            69|    30464|\n",
      "|            31|    22555|\n",
      "|            47|    18364|\n",
      "|            42|    10027|\n",
      "|            46|     7679|\n",
      "|            19|     7031|\n",
      "|            84|     6743|\n",
      "|            82|     5052|\n",
      "|            40|     3582|\n",
      "|            17|     3534|\n",
      "|            38|     3269|\n",
      "|             9|     2874|\n",
      "|            20|     2761|\n",
      "|            71|     2757|\n",
      "|            13|     2701|\n",
      "|            48|     2439|\n",
      "|            89|     1960|\n",
      "|            50|     1824|\n",
      "|            11|     1745|\n",
      "+--------------+---------+\n",
      "only showing top 20 rows\n",
      "\n"
     ]
    }
   ],
   "source": [
    "# violation code frequency for Issuer precinct 14\n",
    "spark.sql(\"select `Violation Code`, count(*) as Frequency from \\\n",
    "(select * from nycparktbl where `Issuer Precinct` == 14) group by `Violation Code` order by Frequency desc\").show()"
   ]
  },
  {
   "cell_type": "markdown",
   "metadata": {},
   "source": [
    "Precint 14 has charged for Violation codes `14`, `69` and `31` heavily."
   ]
  },
  {
   "cell_type": "code",
   "execution_count": 23,
   "metadata": {
    "scrolled": true
   },
   "outputs": [
    {
     "name": "stdout",
     "output_type": "stream",
     "text": [
      "+--------------+---------+\n",
      "|Violation Code|Frequency|\n",
      "+--------------+---------+\n",
      "|            14|    38354|\n",
      "|            16|    19081|\n",
      "|            20|    15408|\n",
      "|            46|    12745|\n",
      "|            38|     8535|\n",
      "|            17|     7526|\n",
      "|            37|     6470|\n",
      "|            31|     5853|\n",
      "|            69|     5672|\n",
      "|            19|     5375|\n",
      "|            10|     4712|\n",
      "|            40|     4592|\n",
      "|            21|     4055|\n",
      "|            71|     3581|\n",
      "|            84|     3310|\n",
      "|            42|     2708|\n",
      "|            51|     2223|\n",
      "|             9|     2206|\n",
      "|            70|     2183|\n",
      "|            48|     1907|\n",
      "+--------------+---------+\n",
      "only showing top 20 rows\n",
      "\n"
     ]
    }
   ],
   "source": [
    "# violation code frequency for Issuer precinct 1\n",
    "spark.sql(\"select `Violation Code`, count(*) as Frequency from \\\n",
    "(select * from nycparktbl where `Issuer Precinct` == 1) group by `Violation Code` order by Frequency desc\").show()"
   ]
  },
  {
   "cell_type": "markdown",
   "metadata": {},
   "source": [
    "In case of precinct 1, the most commonly occuring Violation codes are `14`, `16` and `20`. \n",
    "\n",
    "Now, comparing the results from  the top three Violation ticket issueing precincts it is crystal clear that **Violation code `14` is most likely to happen**."
   ]
  },
  {
   "cell_type": "markdown",
   "metadata": {},
   "source": [
    "### 5. Find out the properties of parking violations across different times of the day:\n",
    "\n",
    "#### > Find a way to deal with missing values, if any. (Hint: Check for the null values using 'isNull' under the SQL. Also, to remove the null values, check the 'dropna' command in the API documentation.)"
   ]
  },
  {
   "cell_type": "code",
   "execution_count": 24,
   "metadata": {},
   "outputs": [
    {
     "name": "stdout",
     "output_type": "stream",
     "text": [
      "+--------+\n",
      "|count(1)|\n",
      "+--------+\n",
      "|       0|\n",
      "+--------+\n",
      "\n"
     ]
    }
   ],
   "source": [
    "spark.sql(\"select count(*) from nycparktbl where `Violation Time` is null\").show()"
   ]
  },
  {
   "cell_type": "markdown",
   "metadata": {},
   "source": [
    "As we had checked this already, there are no NULL values in the column `Violation Time`.\n",
    "\n",
    "#### > The Violation Time field is specified in a strange format. Find a way to make this a time attribute that you can use to divide into groups."
   ]
  },
  {
   "cell_type": "markdown",
   "metadata": {},
   "source": [
    "The best way to achieving this is converting the column `Violation Time` into the 24 hrs clock i.e. from format HHMMA/P to HHMM."
   ]
  },
  {
   "cell_type": "code",
   "execution_count": 25,
   "metadata": {
    "scrolled": true
   },
   "outputs": [
    {
     "name": "stdout",
     "output_type": "stream",
     "text": [
      "+--------------+--------+------------------+-------------------+--------------+-----------------+------------+------------------+---------------+--------------+\n",
      "|Summons Number|Plate ID|Registration State|         Issue Date|Violation Code|Vehicle Body Type|Vehicle Make|Violation Precinct|Issuer Precinct|Violation Time|\n",
      "+--------------+--------+------------------+-------------------+--------------+-----------------+------------+------------------+---------------+--------------+\n",
      "|    8478629828| 66623ME|                NY|2017-06-14 00:00:00|            47|             REFG|       MITSU|                14|             14|         1120A|\n",
      "|    5096917368| FZD8593|                NY|2017-06-13 00:00:00|             7|             SUBN|       ME/BE|                 0|              0|         0852P|\n",
      "|    1407740258| 2513JMG|                NY|2017-01-11 00:00:00|            78|             DELV|       FRUEH|               106|            106|         0015A|\n",
      "|    1413656420|T672371C|                NY|2017-02-04 00:00:00|            40|             TAXI|       TOYOT|                73|             73|         0525A|\n",
      "|    8480309064| 51771JW|                NY|2017-01-26 00:00:00|            64|              VAN|       INTER|                17|             17|         0256P|\n",
      "|    1416638830|  GLP367|                NY|2017-04-30 00:00:00|            20|             SUBN|       DODGE|                17|             17|          0032|\n",
      "|    4630524241|  HJBP29|                FL|2017-02-03 00:00:00|            36|               4D|         BMW|                 0|              0|         1034A|\n",
      "|    8505131836| 87155MA|                NY|2017-05-27 00:00:00|            38|              VAN|       CHEVR|                 1|              1|         1021A|\n",
      "|    8513520615| 77026MG|                NY|2017-05-31 00:00:00|            14|             TRAC|       VOLVO|                24|             24|         0721A|\n",
      "|    8556155431| HFB9919|                NY|2017-05-26 00:00:00|            75|             4DSD|       DODGE|               114|            114|         0940A|\n",
      "+--------------+--------+------------------+-------------------+--------------+-----------------+------------+------------------+---------------+--------------+\n",
      "only showing top 10 rows\n",
      "\n"
     ]
    }
   ],
   "source": [
    "from pyspark.sql.functions import concat, lit\n",
    "# converting the cells for 12 AM to 00 and remove 'A', rest remains same\n",
    "nycpark2017_df = nycpark2017_df.withColumn('Violation Time', \\\n",
    "                          when(((nycpark2017_df['Violation Time'].substr(1, 2)==12) & (nycpark2017_df['Violation Time'].substr(5,1)=='A')), concat(lit(\"00\"), nycpark2017_df['Violation Time'].substr(3, 2)))\\\n",
    "                          .otherwise(nycpark2017_df['Violation Time']))\n",
    "nycpark2017_df.show(10)"
   ]
  },
  {
   "cell_type": "code",
   "execution_count": 26,
   "metadata": {
    "scrolled": true
   },
   "outputs": [
    {
     "name": "stdout",
     "output_type": "stream",
     "text": [
      "+--------------+--------+------------------+-------------------+--------------+-----------------+------------+------------------+---------------+--------------+\n",
      "|Summons Number|Plate ID|Registration State|         Issue Date|Violation Code|Vehicle Body Type|Vehicle Make|Violation Precinct|Issuer Precinct|Violation Time|\n",
      "+--------------+--------+------------------+-------------------+--------------+-----------------+------------+------------------+---------------+--------------+\n",
      "|    8478629828| 66623ME|                NY|2017-06-14 00:00:00|            47|             REFG|       MITSU|                14|             14|         1120A|\n",
      "|    5096917368| FZD8593|                NY|2017-06-13 00:00:00|             7|             SUBN|       ME/BE|                 0|              0|         0852P|\n",
      "|    1407740258| 2513JMG|                NY|2017-01-11 00:00:00|            78|             DELV|       FRUEH|               106|            106|         0015A|\n",
      "|    1413656420|T672371C|                NY|2017-02-04 00:00:00|            40|             TAXI|       TOYOT|                73|             73|         0525A|\n",
      "|    8480309064| 51771JW|                NY|2017-01-26 00:00:00|            64|              VAN|       INTER|                17|             17|         0256P|\n",
      "|    1416638830|  GLP367|                NY|2017-04-30 00:00:00|            20|             SUBN|       DODGE|                17|             17|          0032|\n",
      "|    4630524241|  HJBP29|                FL|2017-02-03 00:00:00|            36|               4D|         BMW|                 0|              0|         1034A|\n",
      "|    8505131836| 87155MA|                NY|2017-05-27 00:00:00|            38|              VAN|       CHEVR|                 1|              1|         1021A|\n",
      "|    8513520615| 77026MG|                NY|2017-05-31 00:00:00|            14|             TRAC|       VOLVO|                24|             24|         0721A|\n",
      "|    8556155431| HFB9919|                NY|2017-05-26 00:00:00|            75|             4DSD|       DODGE|               114|            114|         0940A|\n",
      "|    8483087236| 76822MH|                NY|2017-05-19 00:00:00|            10|             DELV|         HIN|                14|             14|          1223|\n",
      "|    8513914599| 65572JU|                NY|2017-06-09 00:00:00|            69|              VAN|        FORD|                19|             19|         1028A|\n",
      "|    8357020770|  Y56DLT|                NJ|2017-01-20 00:00:00|            21|             4DSD|       CHEVR|               113|            113|         0148A|\n",
      "|    7047487591| 50741JZ|                NY|2017-04-13 00:00:00|            38|             UTIL|         GMC|               115|            115|          1206|\n",
      "|    8122530205| 95139JC|                NY|2017-01-05 00:00:00|            48|             DELV|       INTER|                13|             13|         0141P|\n",
      "|    1419707358|  V97GVE|                NJ|2017-02-18 00:00:00|            21|             SUBN|       ME/BE|                60|              0|         0822A|\n",
      "|    8544889610| VVP9002|                VA|2017-06-14 00:00:00|            21|             4DSD|        AUDI|                72|             72|         0820A|\n",
      "|    8162054819|  EW866X|                NJ|2017-01-29 00:00:00|            68|             4DSD|       NISSA|                84|             84|         1043A|\n",
      "|    8506053195| 25868MB|                NY|2017-01-25 00:00:00|            51|              VAN|        FORD|                 1|              1|         0204P|\n",
      "|    8534116519| CES6482|                NY|2017-06-12 00:00:00|             9|             SUBN|       TOYOT|                81|             81|         0853A|\n",
      "+--------------+--------+------------------+-------------------+--------------+-----------------+------------+------------------+---------------+--------------+\n",
      "only showing top 20 rows\n",
      "\n"
     ]
    }
   ],
   "source": [
    "# converting the remaining cells for 12 PM to remove 'P', rest remains same\n",
    "nycpark2017_df = nycpark2017_df.withColumn('Violation Time', \\\n",
    "                          when(((nycpark2017_df['Violation Time'].substr(1, 2)==12) & (nycpark2017_df['Violation Time'].substr(5,1)=='P')), nycpark2017_df['Violation Time'].substr(1, 4))\\\n",
    "                          .otherwise(nycpark2017_df['Violation Time']))\n",
    "nycpark2017_df.show(20)"
   ]
  },
  {
   "cell_type": "code",
   "execution_count": 27,
   "metadata": {
    "scrolled": true
   },
   "outputs": [
    {
     "name": "stdout",
     "output_type": "stream",
     "text": [
      "+--------------+--------+------------------+-------------------+--------------+-----------------+------------+------------------+---------------+--------------+\n",
      "|Summons Number|Plate ID|Registration State|         Issue Date|Violation Code|Vehicle Body Type|Vehicle Make|Violation Precinct|Issuer Precinct|Violation Time|\n",
      "+--------------+--------+------------------+-------------------+--------------+-----------------+------------+------------------+---------------+--------------+\n",
      "|    8478629828| 66623ME|                NY|2017-06-14 00:00:00|            47|             REFG|       MITSU|                14|             14|         1120A|\n",
      "|    5096917368| FZD8593|                NY|2017-06-13 00:00:00|             7|             SUBN|       ME/BE|                 0|              0|          2052|\n",
      "|    1407740258| 2513JMG|                NY|2017-01-11 00:00:00|            78|             DELV|       FRUEH|               106|            106|         0015A|\n",
      "|    1413656420|T672371C|                NY|2017-02-04 00:00:00|            40|             TAXI|       TOYOT|                73|             73|         0525A|\n",
      "|    8480309064| 51771JW|                NY|2017-01-26 00:00:00|            64|              VAN|       INTER|                17|             17|          1456|\n",
      "|    1416638830|  GLP367|                NY|2017-04-30 00:00:00|            20|             SUBN|       DODGE|                17|             17|          0032|\n",
      "|    4630524241|  HJBP29|                FL|2017-02-03 00:00:00|            36|               4D|         BMW|                 0|              0|         1034A|\n",
      "|    8505131836| 87155MA|                NY|2017-05-27 00:00:00|            38|              VAN|       CHEVR|                 1|              1|         1021A|\n",
      "|    8513520615| 77026MG|                NY|2017-05-31 00:00:00|            14|             TRAC|       VOLVO|                24|             24|         0721A|\n",
      "|    8556155431| HFB9919|                NY|2017-05-26 00:00:00|            75|             4DSD|       DODGE|               114|            114|         0940A|\n",
      "|    8483087236| 76822MH|                NY|2017-05-19 00:00:00|            10|             DELV|         HIN|                14|             14|          1223|\n",
      "|    8513914599| 65572JU|                NY|2017-06-09 00:00:00|            69|              VAN|        FORD|                19|             19|         1028A|\n",
      "|    8357020770|  Y56DLT|                NJ|2017-01-20 00:00:00|            21|             4DSD|       CHEVR|               113|            113|         0148A|\n",
      "|    7047487591| 50741JZ|                NY|2017-04-13 00:00:00|            38|             UTIL|         GMC|               115|            115|          1206|\n",
      "|    8122530205| 95139JC|                NY|2017-01-05 00:00:00|            48|             DELV|       INTER|                13|             13|          1341|\n",
      "|    1419707358|  V97GVE|                NJ|2017-02-18 00:00:00|            21|             SUBN|       ME/BE|                60|              0|         0822A|\n",
      "|    8544889610| VVP9002|                VA|2017-06-14 00:00:00|            21|             4DSD|        AUDI|                72|             72|         0820A|\n",
      "|    8162054819|  EW866X|                NJ|2017-01-29 00:00:00|            68|             4DSD|       NISSA|                84|             84|         1043A|\n",
      "|    8506053195| 25868MB|                NY|2017-01-25 00:00:00|            51|              VAN|        FORD|                 1|              1|          1404|\n",
      "|    8534116519| CES6482|                NY|2017-06-12 00:00:00|             9|             SUBN|       TOYOT|                81|             81|         0853A|\n",
      "+--------------+--------+------------------+-------------------+--------------+-----------------+------------+------------------+---------------+--------------+\n",
      "only showing top 20 rows\n",
      "\n"
     ]
    }
   ],
   "source": [
    "# converting the remaining cells with 'P' to add 12hrs, rest remains same\n",
    "nycpark2017_df = nycpark2017_df.withColumn('Violation Time', \\\n",
    "                          when((nycpark2017_df['Violation Time'].substr(5,1)=='P'), concat((nycpark2017_df['Violation Time'].substr(1, 2) + 12).cast(\"int\"), nycpark2017_df['Violation Time'].substr(3, 2)))\\\n",
    "                          .otherwise(nycpark2017_df['Violation Time']))\n",
    "nycpark2017_df.show(20)"
   ]
  },
  {
   "cell_type": "code",
   "execution_count": 28,
   "metadata": {
    "scrolled": true
   },
   "outputs": [
    {
     "name": "stdout",
     "output_type": "stream",
     "text": [
      "+--------------+--------+------------------+-------------------+--------------+-----------------+------------+------------------+---------------+--------------+\n",
      "|Summons Number|Plate ID|Registration State|         Issue Date|Violation Code|Vehicle Body Type|Vehicle Make|Violation Precinct|Issuer Precinct|Violation Time|\n",
      "+--------------+--------+------------------+-------------------+--------------+-----------------+------------+------------------+---------------+--------------+\n",
      "|    8478629828| 66623ME|                NY|2017-06-14 00:00:00|            47|             REFG|       MITSU|                14|             14|          1120|\n",
      "|    5096917368| FZD8593|                NY|2017-06-13 00:00:00|             7|             SUBN|       ME/BE|                 0|              0|          2052|\n",
      "|    1407740258| 2513JMG|                NY|2017-01-11 00:00:00|            78|             DELV|       FRUEH|               106|            106|          0015|\n",
      "|    1413656420|T672371C|                NY|2017-02-04 00:00:00|            40|             TAXI|       TOYOT|                73|             73|          0525|\n",
      "|    8480309064| 51771JW|                NY|2017-01-26 00:00:00|            64|              VAN|       INTER|                17|             17|          1456|\n",
      "|    1416638830|  GLP367|                NY|2017-04-30 00:00:00|            20|             SUBN|       DODGE|                17|             17|          0032|\n",
      "|    4630524241|  HJBP29|                FL|2017-02-03 00:00:00|            36|               4D|         BMW|                 0|              0|          1034|\n",
      "|    8505131836| 87155MA|                NY|2017-05-27 00:00:00|            38|              VAN|       CHEVR|                 1|              1|          1021|\n",
      "|    8513520615| 77026MG|                NY|2017-05-31 00:00:00|            14|             TRAC|       VOLVO|                24|             24|          0721|\n",
      "|    8556155431| HFB9919|                NY|2017-05-26 00:00:00|            75|             4DSD|       DODGE|               114|            114|          0940|\n",
      "|    8483087236| 76822MH|                NY|2017-05-19 00:00:00|            10|             DELV|         HIN|                14|             14|          1223|\n",
      "|    8513914599| 65572JU|                NY|2017-06-09 00:00:00|            69|              VAN|        FORD|                19|             19|          1028|\n",
      "|    8357020770|  Y56DLT|                NJ|2017-01-20 00:00:00|            21|             4DSD|       CHEVR|               113|            113|          0148|\n",
      "|    7047487591| 50741JZ|                NY|2017-04-13 00:00:00|            38|             UTIL|         GMC|               115|            115|          1206|\n",
      "|    8122530205| 95139JC|                NY|2017-01-05 00:00:00|            48|             DELV|       INTER|                13|             13|          1341|\n",
      "|    1419707358|  V97GVE|                NJ|2017-02-18 00:00:00|            21|             SUBN|       ME/BE|                60|              0|          0822|\n",
      "|    8544889610| VVP9002|                VA|2017-06-14 00:00:00|            21|             4DSD|        AUDI|                72|             72|          0820|\n",
      "|    8162054819|  EW866X|                NJ|2017-01-29 00:00:00|            68|             4DSD|       NISSA|                84|             84|          1043|\n",
      "|    8506053195| 25868MB|                NY|2017-01-25 00:00:00|            51|              VAN|        FORD|                 1|              1|          1404|\n",
      "|    8534116519| CES6482|                NY|2017-06-12 00:00:00|             9|             SUBN|       TOYOT|                81|             81|          0853|\n",
      "+--------------+--------+------------------+-------------------+--------------+-----------------+------------+------------------+---------------+--------------+\n",
      "only showing top 20 rows\n",
      "\n"
     ]
    }
   ],
   "source": [
    "# converting the remaining cells with 'A' to remove 'A', rest remains same\n",
    "nycpark2017_df = nycpark2017_df.withColumn('Violation Time', \\\n",
    "                          when((nycpark2017_df['Violation Time'].substr(5,1)=='A'), nycpark2017_df['Violation Time'].substr(1, 4))\\\n",
    "                          .otherwise(nycpark2017_df['Violation Time']))\n",
    "nycpark2017_df.show(20)"
   ]
  },
  {
   "cell_type": "markdown",
   "metadata": {},
   "source": [
    "Which brings us to the state where we can very easily play with this column."
   ]
  },
  {
   "cell_type": "markdown",
   "metadata": {},
   "source": [
    "#### > Divide 24 hours into six equal discrete bins of time. Choose the intervals as you see fit. For each of these groups, find the three most commonly occurring violations. "
   ]
  },
  {
   "cell_type": "markdown",
   "metadata": {},
   "source": [
    "To divide the 24 hrs into 6 equal bins, we will define these as [00-04), [04-08), [08-12), [12-16), [16-20) and [20-00)."
   ]
  },
  {
   "cell_type": "code",
   "execution_count": 29,
   "metadata": {
    "scrolled": false
   },
   "outputs": [
    {
     "name": "stdout",
     "output_type": "stream",
     "text": [
      "+--------------+---------+\n",
      "|Violation Code|Frequency|\n",
      "+--------------+---------+\n",
      "|            38|   184993|\n",
      "|            36|   184293|\n",
      "|            37|   130718|\n",
      "+--------------+---------+\n",
      "only showing top 3 rows\n",
      "\n"
     ]
    }
   ],
   "source": [
    "# Finding the top 3 Violation Codes for Bin1 [00-04)\n",
    "spark.sql(\"select `Violation Code`, count(*) as Frequency from \\\n",
    "            (select `Summons Number`, `Violation Code` from nycparktbl where substr(`Violation Time`, 1, 2) in ('00', '01', '02', '03')) \\\n",
    "            group by `Violation Code` order by Frequency desc\").show(3)"
   ]
  },
  {
   "cell_type": "code",
   "execution_count": 30,
   "metadata": {},
   "outputs": [
    {
     "name": "stdout",
     "output_type": "stream",
     "text": [
      "+--------------+---------+\n",
      "|Violation Code|Frequency|\n",
      "+--------------+---------+\n",
      "|            14|   150016|\n",
      "|            38|   104128|\n",
      "|            40|    86092|\n",
      "+--------------+---------+\n",
      "only showing top 3 rows\n",
      "\n"
     ]
    }
   ],
   "source": [
    "# Finding the top 3 Violation Codes for Bin2 [04-08)\n",
    "spark.sql(\"select `Violation Code`, count(*) as Frequency from \\\n",
    "            (select `Summons Number`, `Violation Code` from nycparktbl where substr(`Violation Time`, 1, 2) in ('04', '05', '06', '07')) \\\n",
    "            group by `Violation Code` order by Frequency desc\").show(3)"
   ]
  },
  {
   "cell_type": "code",
   "execution_count": 31,
   "metadata": {},
   "outputs": [
    {
     "name": "stdout",
     "output_type": "stream",
     "text": [
      "+--------------+---------+\n",
      "|Violation Code|Frequency|\n",
      "+--------------+---------+\n",
      "|            21|   598254|\n",
      "|            36|   348165|\n",
      "|            38|   196917|\n",
      "+--------------+---------+\n",
      "only showing top 3 rows\n",
      "\n"
     ]
    }
   ],
   "source": [
    "# Finding the top 3 Violation Codes for Bin3 [08-12)\n",
    "spark.sql(\"select `Violation Code`, count(*) as Frequency from \\\n",
    "            (select `Summons Number`, `Violation Code` from nycparktbl where substr(`Violation Time`, 1, 2) in ('08', '09', '10', '11')) \\\n",
    "            group by `Violation Code` order by Frequency desc\").show(3)"
   ]
  },
  {
   "cell_type": "code",
   "execution_count": 32,
   "metadata": {},
   "outputs": [
    {
     "name": "stdout",
     "output_type": "stream",
     "text": [
      "+--------------+---------+\n",
      "|Violation Code|Frequency|\n",
      "+--------------+---------+\n",
      "|            36|   101991|\n",
      "|            21|    74615|\n",
      "|            38|    56040|\n",
      "+--------------+---------+\n",
      "only showing top 3 rows\n",
      "\n"
     ]
    }
   ],
   "source": [
    "# Finding the top 3 Violation Codes for Bin4 [12-16)\n",
    "spark.sql(\"select `Violation Code`, count(*) as Frequency from \\\n",
    "            (select `Summons Number`, `Violation Code` from nycparktbl where substr(`Violation Time`, 1, 2) in ('12', '13', '14', '15')) \\\n",
    "            group by `Violation Code` order by Frequency desc\").show(3)"
   ]
  },
  {
   "cell_type": "code",
   "execution_count": 33,
   "metadata": {},
   "outputs": [
    {
     "name": "stdout",
     "output_type": "stream",
     "text": [
      "+--------------+---------+\n",
      "|Violation Code|Frequency|\n",
      "+--------------+---------+\n",
      "|            98|        2|\n",
      "|            21|        2|\n",
      "|            46|        1|\n",
      "+--------------+---------+\n",
      "\n"
     ]
    }
   ],
   "source": [
    "# Finding the top 3 Violation Codes for Bin5 [16-20)\n",
    "spark.sql(\"select `Violation Code`, count(*) as Frequency from \\\n",
    "            (select `Summons Number`, `Violation Code` from nycparktbl where substr(`Violation Time`, 1, 2) in ('16', '17', '18', '19')) \\\n",
    "            group by `Violation Code` order by Frequency desc\").show(3)"
   ]
  },
  {
   "cell_type": "code",
   "execution_count": 34,
   "metadata": {},
   "outputs": [
    {
     "name": "stdout",
     "output_type": "stream",
     "text": [
      "+--------------+---------+\n",
      "|Violation Code|Frequency|\n",
      "+--------------+---------+\n",
      "|            17|        1|\n",
      "|            78|        1|\n",
      "|            40|        1|\n",
      "+--------------+---------+\n",
      "\n"
     ]
    }
   ],
   "source": [
    "# Finding the top 3 Violation Codes for Bin6 [20-00)\n",
    "spark.sql(\"select `Violation Code`, count(*) as Frequency from \\\n",
    "            (select `Summons Number`, `Violation Code` from nycparktbl where substr(`Violation Time`, 1, 2) in ('20', '21', '22', '23')) \\\n",
    "            group by `Violation Code` order by Frequency desc\").show(3)"
   ]
  },
  {
   "cell_type": "markdown",
   "metadata": {},
   "source": [
    "Therefore, from the above observations some trends we can derive are, \n",
    "\n",
    "* Violation code `38` is the most common on any day and is much frequent during early morning hrs.\n",
    "* Violation code `21` is mostly common during the general working hrs of the major population.\n",
    "* Evening hours(1600 to 0000 hrs) is the quietest time of the day.\n",
    "* Morning (0800-1200 hrs) is the most busy time of a day. "
   ]
  },
  {
   "cell_type": "markdown",
   "metadata": {},
   "source": [
    "#### > Now, try another direction. For the three most commonly occurring violation codes, find the most common time of the day (in terms of the bins from the previous part)."
   ]
  },
  {
   "cell_type": "markdown",
   "metadata": {},
   "source": [
    "As we already know from point-1 above, the three most common Violation codes are 21, 36 and 38 chronologically. Let's explore further..."
   ]
  },
  {
   "cell_type": "code",
   "execution_count": 35,
   "metadata": {
    "scrolled": true
   },
   "outputs": [],
   "source": [
    "# creating a view with the binned data\n",
    "nycpark2017_df.select('Summons Number', 'Violation Code', \\\n",
    "                          when((nycpark2017_df['Violation Time'].substr(1, 2) <= 3), \"Bin1\")\\\n",
    "                          .when((nycpark2017_df['Violation Time'].substr(1, 2) <= 7), \"Bin2\")\\\n",
    "                          .when((nycpark2017_df['Violation Time'].substr(1, 2) <= 11), \"Bin3\")\\\n",
    "                          .when((nycpark2017_df['Violation Time'].substr(1, 2) <= 15), \"Bin4\")\\\n",
    "                          .when((nycpark2017_df['Violation Time'].substr(1, 2) <= 19), \"Bin5\")\\\n",
    "                          .when((nycpark2017_df['Violation Time'].substr(1, 2) <= 23), \"Bin6\")\\\n",
    "                          .otherwise(nycpark2017_df['Violation Time']).alias('Violation Bin'))\\\n",
    ".createOrReplaceTempView(\"nycparktbl_binned\")"
   ]
  },
  {
   "cell_type": "code",
   "execution_count": 36,
   "metadata": {},
   "outputs": [
    {
     "name": "stdout",
     "output_type": "stream",
     "text": [
      "+-------------+---------+\n",
      "|Violation Bin|Frequency|\n",
      "+-------------+---------+\n",
      "|         Bin3|   598070|\n",
      "+-------------+---------+\n",
      "only showing top 1 row\n",
      "\n"
     ]
    }
   ],
   "source": [
    "# checking the most common time of the day for Violation code 21\n",
    "spark.sql(\"select `Violation Bin`, count(*) as Frequency from \\\n",
    "            (select * from nycparktbl_binned where `Violation Code`==21) \\\n",
    "            group by `Violation Bin` order by Frequency desc \").show(1)"
   ]
  },
  {
   "cell_type": "code",
   "execution_count": 37,
   "metadata": {},
   "outputs": [
    {
     "name": "stdout",
     "output_type": "stream",
     "text": [
      "+-------------+---------+\n",
      "|Violation Bin|Frequency|\n",
      "+-------------+---------+\n",
      "|         Bin3|   348165|\n",
      "+-------------+---------+\n",
      "only showing top 1 row\n",
      "\n"
     ]
    }
   ],
   "source": [
    "# checking the most common time of the day for Violation code 36\n",
    "spark.sql(\"select `Violation Bin`, count(*) as Frequency from \\\n",
    "            (select * from nycparktbl_binned where `Violation Code`==36) \\\n",
    "            group by `Violation Bin` order by Frequency desc \").show(1)"
   ]
  },
  {
   "cell_type": "code",
   "execution_count": 38,
   "metadata": {},
   "outputs": [
    {
     "name": "stdout",
     "output_type": "stream",
     "text": [
      "+-------------+---------+\n",
      "|Violation Bin|Frequency|\n",
      "+-------------+---------+\n",
      "|         Bin4|   240721|\n",
      "+-------------+---------+\n",
      "only showing top 1 row\n",
      "\n"
     ]
    }
   ],
   "source": [
    "# checking the most common time of the day for Violation code 38\n",
    "spark.sql(\"select `Violation Bin`, count(*) as Frequency from \\\n",
    "            (select * from nycparktbl_binned where `Violation Code`==38) \\\n",
    "            group by `Violation Bin` order by Frequency desc \").show(1)"
   ]
  },
  {
   "cell_type": "markdown",
   "metadata": {},
   "source": [
    "As we can clearly see, for the top two **Violation codes, `21` and `36` the most common time of occurence is 08AM to 12PM**, while the third highest **Violation code `38` occurs mostly between 12PM to 04PM**."
   ]
  },
  {
   "cell_type": "markdown",
   "metadata": {},
   "source": [
    "### 6. Let’s try and find some seasonality in this data:\n",
    "\n",
    "#### > First, divide the year into a certain number of seasons, and find the frequencies of tickets for each season. (Hint: Use Issue Date to segregate into seasons.)"
   ]
  },
  {
   "cell_type": "markdown",
   "metadata": {},
   "source": [
    "Now as per the standard weather conditions in the New York City there are four seasons, `Dec to Feb is Winter` Season, `Mar to May is Spring` season, `Jun to Aug is Summer` season and `Sep to Nov is the Fall` season. Let's divide our dataset accordingly. "
   ]
  },
  {
   "cell_type": "code",
   "execution_count": 39,
   "metadata": {},
   "outputs": [],
   "source": [
    "# creating a view based on the seasons\n",
    "from pyspark.sql.functions import month\n",
    "nycpark2017_df.select('Summons Number', 'Violation Code', \\\n",
    "                          when(((month('Issue Date')==12) | (month('Issue Date')==1) | (month('Issue Date')==2)), \"Winter\")\\\n",
    "                          .when(((month('Issue Date')==3) | (month('Issue Date')==4) | (month('Issue Date')==5)), \"Spring\")\\\n",
    "                          .when(((month('Issue Date')==6) | (month('Issue Date')==7) | (month('Issue Date')==8)), \"Summer\")\\\n",
    "                          .when(((month('Issue Date')==9) | (month('Issue Date')==10) | (month('Issue Date')==11)), \"Fall\")\\\n",
    "                          .alias('Season'))\\\n",
    ".createOrReplaceTempView(\"nycparktbl_seasons\")"
   ]
  },
  {
   "cell_type": "code",
   "execution_count": 40,
   "metadata": {},
   "outputs": [
    {
     "name": "stdout",
     "output_type": "stream",
     "text": [
      "+------+---------+\n",
      "|Season|Frequency|\n",
      "+------+---------+\n",
      "|Spring|  2873383|\n",
      "|Winter|  1704690|\n",
      "|Summer|   852866|\n",
      "|  Fall|      979|\n",
      "+------+---------+\n",
      "\n"
     ]
    }
   ],
   "source": [
    "# finding the frequency of ticket for each season\n",
    "spark.sql(\"select Season, count(*) as Frequency from nycparktbl_seasons group by Season order by Frequency desc\").show()"
   ]
  },
  {
   "cell_type": "markdown",
   "metadata": {},
   "source": [
    "Which says that **`Spring` has the highest frequency** of defaults as compared to any other season, while **`Winter` season stands second** in the row with just 59% of the frequency of Spring season.\n",
    "\n",
    "#### > Then, find the three most common violations for each of these seasons. (Hint: You can use an approach similar to the one mentioned in the hint for question 4.)"
   ]
  },
  {
   "cell_type": "code",
   "execution_count": 41,
   "metadata": {},
   "outputs": [
    {
     "name": "stdout",
     "output_type": "stream",
     "text": [
      "+--------------+---------+\n",
      "|Violation Code|Frequency|\n",
      "+--------------+---------+\n",
      "|            21|   402424|\n",
      "|            36|   344834|\n",
      "|            38|   271167|\n",
      "+--------------+---------+\n",
      "only showing top 3 rows\n",
      "\n"
     ]
    }
   ],
   "source": [
    "# checking the 3 most common Violations for the Spring season\n",
    "spark.sql(\"select `Violation Code`, count(*) as Frequency from \\\n",
    "            (select * from nycparktbl_seasons where `Season`=='Spring') \\\n",
    "            group by `Violation Code` order by Frequency desc \").show(3)"
   ]
  },
  {
   "cell_type": "code",
   "execution_count": 42,
   "metadata": {},
   "outputs": [
    {
     "name": "stdout",
     "output_type": "stream",
     "text": [
      "+--------------+---------+\n",
      "|Violation Code|Frequency|\n",
      "+--------------+---------+\n",
      "|            21|   238183|\n",
      "|            36|   221268|\n",
      "|            38|   187386|\n",
      "+--------------+---------+\n",
      "only showing top 3 rows\n",
      "\n"
     ]
    }
   ],
   "source": [
    "# checking the 3 most common Violations for the Winter season\n",
    "spark.sql(\"select `Violation Code`, count(*) as Frequency from \\\n",
    "            (select * from nycparktbl_seasons where `Season`=='Winter') \\\n",
    "            group by `Violation Code` order by Frequency desc \").show(3)"
   ]
  },
  {
   "cell_type": "code",
   "execution_count": 43,
   "metadata": {},
   "outputs": [
    {
     "name": "stdout",
     "output_type": "stream",
     "text": [
      "+--------------+---------+\n",
      "|Violation Code|Frequency|\n",
      "+--------------+---------+\n",
      "|            21|   127352|\n",
      "|            36|    96663|\n",
      "|            38|    83518|\n",
      "+--------------+---------+\n",
      "only showing top 3 rows\n",
      "\n"
     ]
    }
   ],
   "source": [
    "# checking the 3 most common Violations for the Summer season\n",
    "spark.sql(\"select `Violation Code`, count(*) as Frequency from \\\n",
    "            (select * from nycparktbl_seasons where `Season`=='Summer') \\\n",
    "            group by `Violation Code` order by Frequency desc \").show(3)"
   ]
  },
  {
   "cell_type": "code",
   "execution_count": 44,
   "metadata": {},
   "outputs": [
    {
     "name": "stdout",
     "output_type": "stream",
     "text": [
      "+--------------+---------+\n",
      "|Violation Code|Frequency|\n",
      "+--------------+---------+\n",
      "|            46|      231|\n",
      "|            21|      128|\n",
      "|            40|      116|\n",
      "+--------------+---------+\n",
      "only showing top 3 rows\n",
      "\n"
     ]
    }
   ],
   "source": [
    "# checking the 3 most common Violations for the Fall season\n",
    "spark.sql(\"select `Violation Code`, count(*) as Frequency from \\\n",
    "            (select * from nycparktbl_seasons where `Season`=='Fall') \\\n",
    "            group by `Violation Code` order by Frequency desc \").show(3)"
   ]
  },
  {
   "cell_type": "markdown",
   "metadata": {},
   "source": [
    "It is quite surprising to find out that, \n",
    "* Violation code `21` is common throughout the year.\n",
    "* Violation codes `21`, `36` and `38` are continuosly the three top Violations from December to August and in the same order. \n",
    "* Fall season is significantly quiet as compared to other three seasons of the year.\n",
    "* Fall season have different kind of Violations (`46` and `40`) that other 3 seasons."
   ]
  },
  {
   "cell_type": "markdown",
   "metadata": {},
   "source": [
    "### 7. The fines collected from all the instances of parking violation constitute a source of revenue for the NYC Police Department. Let’s take an example of estimating this for the three most commonly occurring codes:\n",
    "\n",
    "#### > Find the total occurrences of the three most common violation codes."
   ]
  },
  {
   "cell_type": "code",
   "execution_count": 45,
   "metadata": {},
   "outputs": [
    {
     "name": "stdout",
     "output_type": "stream",
     "text": [
      "+--------------+---------+\n",
      "|Violation Code|Frequency|\n",
      "+--------------+---------+\n",
      "|            21|   768087|\n",
      "|            36|   662765|\n",
      "|            38|   542079|\n",
      "+--------------+---------+\n",
      "only showing top 3 rows\n",
      "\n"
     ]
    }
   ],
   "source": [
    "spark.sql(\"select `Violation Code`, count(*) as Frequency from nycparktbl \\\n",
    "            group by `Violation Code` \\\n",
    "            order by Frequency desc\").show(3)"
   ]
  },
  {
   "cell_type": "markdown",
   "metadata": {},
   "source": [
    "As we know well from our analysis before **`Violation code- 21` occurs 768087 times**, **`Violation code- 36` occurs 662765 times** while **`Violation code- 38` occurs 542079 times** in our dataset contributing the highest percentage of tickets than other violation codes.\n",
    "\n",
    "#### > Then, visit the website: http://www1.nyc.gov/site/finance/vehicles/services-violation-codes.page. It lists the fines associated with different violation codes. They’re divided into two categories: one for the highest-density locations in the city and the other for the rest of the city. For the sake of simplicity, take the average of the two."
   ]
  },
  {
   "cell_type": "markdown",
   "metadata": {},
   "source": [
    "Looking at the table given in the link, \n",
    "\n",
    "| CODE | DEFINITION | Manhattan 96th St. & below | All Other Areas | \n",
    "| ------ | ------ | ------ | ------ | \n",
    "| 21 | Street Cleaning: No parking where parking is not allowed by sign,<br /> street marking or traffic control device. | `$65` | `$45` | \n",
    "| 36 | Exceeding the posted speed limit in or near a designated school zone. | `$50` | `$50` |\n",
    "| 38 | Failing to show a receipt or tag in the windshield.<br /> Drivers get a 5-minute grace period past the expired time on parking meter receipts. | `$65` | `$35` | \n",
    "\n",
    "The Average for the top three Violation codes would be as below,         \n",
    "\n",
    "| Violation Code | Average Fine | \n",
    "| ------ | ------ | \n",
    "| 21 | `$55` |\n",
    "| 36 | `$50` | \n",
    "| 38 | `$50` | "
   ]
  },
  {
   "cell_type": "markdown",
   "metadata": {},
   "source": [
    "#### > Using this information, find the total amount collected for the three violation codes with the maximum tickets. State the code that has the highest total collection."
   ]
  },
  {
   "cell_type": "code",
   "execution_count": 53,
   "metadata": {},
   "outputs": [
    {
     "name": "stdout",
     "output_type": "stream",
     "text": [
      "+--------------+----------------+\n",
      "|Violation Code|Total_Collection|\n",
      "+--------------+----------------+\n",
      "|            21|        42244785|\n",
      "+--------------+----------------+\n",
      "\n"
     ]
    }
   ],
   "source": [
    "# checking total collection under violation code 21\n",
    "spark.sql(\"select `Violation Code`, count(*)*55 as Total_Collection from \\\n",
    "            (select * from nycparktbl where `Violation Code` = 21) \\\n",
    "            group by `Violation Code` \").show()"
   ]
  },
  {
   "cell_type": "code",
   "execution_count": 54,
   "metadata": {},
   "outputs": [
    {
     "name": "stdout",
     "output_type": "stream",
     "text": [
      "+--------------+----------------+\n",
      "|Violation Code|Total_Collection|\n",
      "+--------------+----------------+\n",
      "|            36|        36452075|\n",
      "+--------------+----------------+\n",
      "\n"
     ]
    }
   ],
   "source": [
    "# checking total collection under violation code 36\n",
    "spark.sql(\"select `Violation Code`, count(*)*55 as Total_Collection from \\\n",
    "            (select * from nycparktbl where `Violation Code` = 36) \\\n",
    "            group by `Violation Code` \").show()"
   ]
  },
  {
   "cell_type": "code",
   "execution_count": 55,
   "metadata": {},
   "outputs": [
    {
     "name": "stdout",
     "output_type": "stream",
     "text": [
      "+--------------+----------------+\n",
      "|Violation Code|Total_Collection|\n",
      "+--------------+----------------+\n",
      "|            38|        29814345|\n",
      "+--------------+----------------+\n",
      "\n"
     ]
    }
   ],
   "source": [
    "# checking total collection under violation code 38\n",
    "spark.sql(\"select `Violation Code`, count(*)*55 as Total_Collection from \\\n",
    "            (select * from nycparktbl where `Violation Code` = 38) \\\n",
    "            group by `Violation Code` \").show()"
   ]
  },
  {
   "cell_type": "markdown",
   "metadata": {},
   "source": [
    "Hence the total collection from the top three violation codes is in accordance with their sequence in terms of frequency, **Violation code `21` being the highest total collector with an amount of over 42 Million dollars** in the entire year 2017."
   ]
  },
  {
   "cell_type": "markdown",
   "metadata": {},
   "source": [
    "#### > What can you intuitively infer from these findings? \n",
    "\n",
    "From the above findings it is quite clear that, \n",
    "* There is a significant population in the city who tend to park their vehicle at the no parking areas. \n",
    "* Other than unauthorised parkings, Speed limit violations and Parking tag manifestation are also very common."
   ]
  },
  {
   "cell_type": "code",
   "execution_count": 56,
   "metadata": {},
   "outputs": [],
   "source": [
    "# stopping the spark\n",
    "spark.stop()"
   ]
  },
  {
   "cell_type": "code",
   "execution_count": null,
   "metadata": {},
   "outputs": [],
   "source": []
  }
 ],
 "metadata": {
  "kernelspec": {
   "display_name": "PySpark",
   "language": "python",
   "name": "pyspark"
  },
  "language_info": {
   "codemirror_mode": {
    "name": "ipython",
    "version": 3
   },
   "file_extension": ".py",
   "mimetype": "text/x-python",
   "name": "python",
   "nbconvert_exporter": "python",
   "pygments_lexer": "ipython3",
   "version": "3.6.5"
  }
 },
 "nbformat": 4,
 "nbformat_minor": 2
}
